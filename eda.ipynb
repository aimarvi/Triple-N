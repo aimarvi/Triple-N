{
 "cells": [
  {
   "cell_type": "code",
   "execution_count": 1,
   "id": "17e893b3-2797-452c-897d-020aa0ad9bb5",
   "metadata": {
    "tags": []
   },
   "outputs": [],
   "source": [
    "import os\n",
    "import re\n",
    "import h5py\n",
    "import numpy as np"
   ]
  },
  {
   "cell_type": "code",
   "execution_count": 7,
   "id": "af2105c4-c7ce-452f-bce9-8649cfefb9fc",
   "metadata": {
    "tags": []
   },
   "outputs": [
    {
     "name": "stdout",
     "output_type": "stream",
     "text": [
      "(711, 450, 5442)\n"
     ]
    }
   ],
   "source": [
    "datadir = '../datasets/NNN/'\n",
    "fnames = [f for f in os.listdir(datadir) if re.match(r'^GoodUnit.*\\.mat$', f)]\n",
    "\n",
    "session_num = 0\n",
    "\n",
    "with h5py.File(os.path.join(datadir, fnames[session_num]), 'r') as f:\n",
    "    # Choose your path as appropriate\n",
    "    raster = f['GoodUnitStrc/Raster']\n",
    "    \n",
    "    # Dereference all cell elements into a list of np arrays\n",
    "    raster_npy = [f[raster[i,0]][()] for i in range(raster.shape[0])]\n",
    "    # Note: use raster[i] instead of raster[i, 0] if it's 1D\n",
    "\n",
    "    raster_stacked = np.stack(raster_npy)\n",
    "\n",
    "# shape is (376, 450, 5720) --> (units, time point, trials)\n",
    "print(raster_stacked.shape)"
   ]
  },
  {
   "cell_type": "code",
   "execution_count": 5,
   "id": "ee860524-2863-4477-984d-6ecc79a14d40",
   "metadata": {
    "tags": []
   },
   "outputs": [
    {
     "name": "stdout",
     "output_type": "stream",
     "text": [
      "<KeysViewHDF5 ['#refs#', '#subsystem#', 'GoodUnitStrc', 'global_params', 'meta_data', 'trial_ML']>\n"
     ]
    }
   ],
   "source": [
    "with h5py.File(os.path.join(datadir, fnames[session_num]), 'r') as f:\n",
    "    print(f[''].keys())"
   ]
  }
 ],
 "metadata": {
  "kernelspec": {
   "display_name": "Python [conda env:dynamics]",
   "language": "python",
   "name": "conda-env-dynamics-py"
  },
  "language_info": {
   "codemirror_mode": {
    "name": "ipython",
    "version": 3
   },
   "file_extension": ".py",
   "mimetype": "text/x-python",
   "name": "python",
   "nbconvert_exporter": "python",
   "pygments_lexer": "ipython3",
   "version": "3.13.7"
  }
 },
 "nbformat": 4,
 "nbformat_minor": 5
}
